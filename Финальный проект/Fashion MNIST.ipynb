{
 "cells": [
  {
   "cell_type": "markdown",
   "id": "c90c99ef",
   "metadata": {},
   "source": [
    "# Fashion MNIST"
   ]
  },
  {
   "cell_type": "code",
   "execution_count": 32,
   "id": "6a8ad3cb",
   "metadata": {},
   "outputs": [],
   "source": [
    "import numpy as np\n",
    "import pandas as pd\n",
    "import matplotlib.pyplot as plt\n",
    "import tensorflow as tf\n",
    "import datetime\n",
    "\n",
    "%matplotlib inline"
   ]
  },
  {
   "cell_type": "code",
   "execution_count": 33,
   "id": "107e4c00",
   "metadata": {},
   "outputs": [
    {
     "data": {
      "text/html": [
       "<div>\n",
       "<style scoped>\n",
       "    .dataframe tbody tr th:only-of-type {\n",
       "        vertical-align: middle;\n",
       "    }\n",
       "\n",
       "    .dataframe tbody tr th {\n",
       "        vertical-align: top;\n",
       "    }\n",
       "\n",
       "    .dataframe thead th {\n",
       "        text-align: right;\n",
       "    }\n",
       "</style>\n",
       "<table border=\"1\" class=\"dataframe\">\n",
       "  <thead>\n",
       "    <tr style=\"text-align: right;\">\n",
       "      <th></th>\n",
       "      <th>label</th>\n",
       "      <th>pixel1</th>\n",
       "      <th>pixel2</th>\n",
       "      <th>pixel3</th>\n",
       "      <th>pixel4</th>\n",
       "      <th>pixel5</th>\n",
       "      <th>pixel6</th>\n",
       "      <th>pixel7</th>\n",
       "      <th>pixel8</th>\n",
       "      <th>pixel9</th>\n",
       "      <th>...</th>\n",
       "      <th>pixel775</th>\n",
       "      <th>pixel776</th>\n",
       "      <th>pixel777</th>\n",
       "      <th>pixel778</th>\n",
       "      <th>pixel779</th>\n",
       "      <th>pixel780</th>\n",
       "      <th>pixel781</th>\n",
       "      <th>pixel782</th>\n",
       "      <th>pixel783</th>\n",
       "      <th>pixel784</th>\n",
       "    </tr>\n",
       "  </thead>\n",
       "  <tbody>\n",
       "    <tr>\n",
       "      <th>0</th>\n",
       "      <td>2</td>\n",
       "      <td>0</td>\n",
       "      <td>0</td>\n",
       "      <td>0</td>\n",
       "      <td>0</td>\n",
       "      <td>0</td>\n",
       "      <td>0</td>\n",
       "      <td>0</td>\n",
       "      <td>0</td>\n",
       "      <td>0</td>\n",
       "      <td>...</td>\n",
       "      <td>0</td>\n",
       "      <td>0</td>\n",
       "      <td>0</td>\n",
       "      <td>0</td>\n",
       "      <td>0</td>\n",
       "      <td>0</td>\n",
       "      <td>0</td>\n",
       "      <td>0</td>\n",
       "      <td>0</td>\n",
       "      <td>0</td>\n",
       "    </tr>\n",
       "    <tr>\n",
       "      <th>1</th>\n",
       "      <td>9</td>\n",
       "      <td>0</td>\n",
       "      <td>0</td>\n",
       "      <td>0</td>\n",
       "      <td>0</td>\n",
       "      <td>0</td>\n",
       "      <td>0</td>\n",
       "      <td>0</td>\n",
       "      <td>0</td>\n",
       "      <td>0</td>\n",
       "      <td>...</td>\n",
       "      <td>0</td>\n",
       "      <td>0</td>\n",
       "      <td>0</td>\n",
       "      <td>0</td>\n",
       "      <td>0</td>\n",
       "      <td>0</td>\n",
       "      <td>0</td>\n",
       "      <td>0</td>\n",
       "      <td>0</td>\n",
       "      <td>0</td>\n",
       "    </tr>\n",
       "    <tr>\n",
       "      <th>2</th>\n",
       "      <td>6</td>\n",
       "      <td>0</td>\n",
       "      <td>0</td>\n",
       "      <td>0</td>\n",
       "      <td>0</td>\n",
       "      <td>0</td>\n",
       "      <td>0</td>\n",
       "      <td>0</td>\n",
       "      <td>5</td>\n",
       "      <td>0</td>\n",
       "      <td>...</td>\n",
       "      <td>0</td>\n",
       "      <td>0</td>\n",
       "      <td>0</td>\n",
       "      <td>30</td>\n",
       "      <td>43</td>\n",
       "      <td>0</td>\n",
       "      <td>0</td>\n",
       "      <td>0</td>\n",
       "      <td>0</td>\n",
       "      <td>0</td>\n",
       "    </tr>\n",
       "    <tr>\n",
       "      <th>3</th>\n",
       "      <td>0</td>\n",
       "      <td>0</td>\n",
       "      <td>0</td>\n",
       "      <td>0</td>\n",
       "      <td>1</td>\n",
       "      <td>2</td>\n",
       "      <td>0</td>\n",
       "      <td>0</td>\n",
       "      <td>0</td>\n",
       "      <td>0</td>\n",
       "      <td>...</td>\n",
       "      <td>3</td>\n",
       "      <td>0</td>\n",
       "      <td>0</td>\n",
       "      <td>0</td>\n",
       "      <td>0</td>\n",
       "      <td>1</td>\n",
       "      <td>0</td>\n",
       "      <td>0</td>\n",
       "      <td>0</td>\n",
       "      <td>0</td>\n",
       "    </tr>\n",
       "    <tr>\n",
       "      <th>4</th>\n",
       "      <td>3</td>\n",
       "      <td>0</td>\n",
       "      <td>0</td>\n",
       "      <td>0</td>\n",
       "      <td>0</td>\n",
       "      <td>0</td>\n",
       "      <td>0</td>\n",
       "      <td>0</td>\n",
       "      <td>0</td>\n",
       "      <td>0</td>\n",
       "      <td>...</td>\n",
       "      <td>0</td>\n",
       "      <td>0</td>\n",
       "      <td>0</td>\n",
       "      <td>0</td>\n",
       "      <td>0</td>\n",
       "      <td>0</td>\n",
       "      <td>0</td>\n",
       "      <td>0</td>\n",
       "      <td>0</td>\n",
       "      <td>0</td>\n",
       "    </tr>\n",
       "  </tbody>\n",
       "</table>\n",
       "<p>5 rows × 785 columns</p>\n",
       "</div>"
      ],
      "text/plain": [
       "   label  pixel1  pixel2  pixel3  pixel4  pixel5  pixel6  pixel7  pixel8  \\\n",
       "0      2       0       0       0       0       0       0       0       0   \n",
       "1      9       0       0       0       0       0       0       0       0   \n",
       "2      6       0       0       0       0       0       0       0       5   \n",
       "3      0       0       0       0       1       2       0       0       0   \n",
       "4      3       0       0       0       0       0       0       0       0   \n",
       "\n",
       "   pixel9  ...  pixel775  pixel776  pixel777  pixel778  pixel779  pixel780  \\\n",
       "0       0  ...         0         0         0         0         0         0   \n",
       "1       0  ...         0         0         0         0         0         0   \n",
       "2       0  ...         0         0         0        30        43         0   \n",
       "3       0  ...         3         0         0         0         0         1   \n",
       "4       0  ...         0         0         0         0         0         0   \n",
       "\n",
       "   pixel781  pixel782  pixel783  pixel784  \n",
       "0         0         0         0         0  \n",
       "1         0         0         0         0  \n",
       "2         0         0         0         0  \n",
       "3         0         0         0         0  \n",
       "4         0         0         0         0  \n",
       "\n",
       "[5 rows x 785 columns]"
      ]
     },
     "execution_count": 33,
     "metadata": {},
     "output_type": "execute_result"
    }
   ],
   "source": [
    "data_train = pd.read_csv('fashion-mnist_train.csv')\n",
    "data_train.head()"
   ]
  },
  {
   "cell_type": "code",
   "execution_count": 34,
   "id": "c5258eae",
   "metadata": {},
   "outputs": [
    {
     "data": {
      "text/html": [
       "<div>\n",
       "<style scoped>\n",
       "    .dataframe tbody tr th:only-of-type {\n",
       "        vertical-align: middle;\n",
       "    }\n",
       "\n",
       "    .dataframe tbody tr th {\n",
       "        vertical-align: top;\n",
       "    }\n",
       "\n",
       "    .dataframe thead th {\n",
       "        text-align: right;\n",
       "    }\n",
       "</style>\n",
       "<table border=\"1\" class=\"dataframe\">\n",
       "  <thead>\n",
       "    <tr style=\"text-align: right;\">\n",
       "      <th></th>\n",
       "      <th>label</th>\n",
       "      <th>pixel1</th>\n",
       "      <th>pixel2</th>\n",
       "      <th>pixel3</th>\n",
       "      <th>pixel4</th>\n",
       "      <th>pixel5</th>\n",
       "      <th>pixel6</th>\n",
       "      <th>pixel7</th>\n",
       "      <th>pixel8</th>\n",
       "      <th>pixel9</th>\n",
       "      <th>...</th>\n",
       "      <th>pixel775</th>\n",
       "      <th>pixel776</th>\n",
       "      <th>pixel777</th>\n",
       "      <th>pixel778</th>\n",
       "      <th>pixel779</th>\n",
       "      <th>pixel780</th>\n",
       "      <th>pixel781</th>\n",
       "      <th>pixel782</th>\n",
       "      <th>pixel783</th>\n",
       "      <th>pixel784</th>\n",
       "    </tr>\n",
       "  </thead>\n",
       "  <tbody>\n",
       "    <tr>\n",
       "      <th>0</th>\n",
       "      <td>0</td>\n",
       "      <td>0</td>\n",
       "      <td>0</td>\n",
       "      <td>0</td>\n",
       "      <td>0</td>\n",
       "      <td>0</td>\n",
       "      <td>0</td>\n",
       "      <td>0</td>\n",
       "      <td>9</td>\n",
       "      <td>8</td>\n",
       "      <td>...</td>\n",
       "      <td>103</td>\n",
       "      <td>87</td>\n",
       "      <td>56</td>\n",
       "      <td>0</td>\n",
       "      <td>0</td>\n",
       "      <td>0</td>\n",
       "      <td>0</td>\n",
       "      <td>0</td>\n",
       "      <td>0</td>\n",
       "      <td>0</td>\n",
       "    </tr>\n",
       "    <tr>\n",
       "      <th>1</th>\n",
       "      <td>1</td>\n",
       "      <td>0</td>\n",
       "      <td>0</td>\n",
       "      <td>0</td>\n",
       "      <td>0</td>\n",
       "      <td>0</td>\n",
       "      <td>0</td>\n",
       "      <td>0</td>\n",
       "      <td>0</td>\n",
       "      <td>0</td>\n",
       "      <td>...</td>\n",
       "      <td>34</td>\n",
       "      <td>0</td>\n",
       "      <td>0</td>\n",
       "      <td>0</td>\n",
       "      <td>0</td>\n",
       "      <td>0</td>\n",
       "      <td>0</td>\n",
       "      <td>0</td>\n",
       "      <td>0</td>\n",
       "      <td>0</td>\n",
       "    </tr>\n",
       "    <tr>\n",
       "      <th>2</th>\n",
       "      <td>2</td>\n",
       "      <td>0</td>\n",
       "      <td>0</td>\n",
       "      <td>0</td>\n",
       "      <td>0</td>\n",
       "      <td>0</td>\n",
       "      <td>0</td>\n",
       "      <td>14</td>\n",
       "      <td>53</td>\n",
       "      <td>99</td>\n",
       "      <td>...</td>\n",
       "      <td>0</td>\n",
       "      <td>0</td>\n",
       "      <td>0</td>\n",
       "      <td>0</td>\n",
       "      <td>63</td>\n",
       "      <td>53</td>\n",
       "      <td>31</td>\n",
       "      <td>0</td>\n",
       "      <td>0</td>\n",
       "      <td>0</td>\n",
       "    </tr>\n",
       "    <tr>\n",
       "      <th>3</th>\n",
       "      <td>2</td>\n",
       "      <td>0</td>\n",
       "      <td>0</td>\n",
       "      <td>0</td>\n",
       "      <td>0</td>\n",
       "      <td>0</td>\n",
       "      <td>0</td>\n",
       "      <td>0</td>\n",
       "      <td>0</td>\n",
       "      <td>0</td>\n",
       "      <td>...</td>\n",
       "      <td>137</td>\n",
       "      <td>126</td>\n",
       "      <td>140</td>\n",
       "      <td>0</td>\n",
       "      <td>133</td>\n",
       "      <td>224</td>\n",
       "      <td>222</td>\n",
       "      <td>56</td>\n",
       "      <td>0</td>\n",
       "      <td>0</td>\n",
       "    </tr>\n",
       "    <tr>\n",
       "      <th>4</th>\n",
       "      <td>3</td>\n",
       "      <td>0</td>\n",
       "      <td>0</td>\n",
       "      <td>0</td>\n",
       "      <td>0</td>\n",
       "      <td>0</td>\n",
       "      <td>0</td>\n",
       "      <td>0</td>\n",
       "      <td>0</td>\n",
       "      <td>0</td>\n",
       "      <td>...</td>\n",
       "      <td>0</td>\n",
       "      <td>0</td>\n",
       "      <td>0</td>\n",
       "      <td>0</td>\n",
       "      <td>0</td>\n",
       "      <td>0</td>\n",
       "      <td>0</td>\n",
       "      <td>0</td>\n",
       "      <td>0</td>\n",
       "      <td>0</td>\n",
       "    </tr>\n",
       "  </tbody>\n",
       "</table>\n",
       "<p>5 rows × 785 columns</p>\n",
       "</div>"
      ],
      "text/plain": [
       "   label  pixel1  pixel2  pixel3  pixel4  pixel5  pixel6  pixel7  pixel8  \\\n",
       "0      0       0       0       0       0       0       0       0       9   \n",
       "1      1       0       0       0       0       0       0       0       0   \n",
       "2      2       0       0       0       0       0       0      14      53   \n",
       "3      2       0       0       0       0       0       0       0       0   \n",
       "4      3       0       0       0       0       0       0       0       0   \n",
       "\n",
       "   pixel9  ...  pixel775  pixel776  pixel777  pixel778  pixel779  pixel780  \\\n",
       "0       8  ...       103        87        56         0         0         0   \n",
       "1       0  ...        34         0         0         0         0         0   \n",
       "2      99  ...         0         0         0         0        63        53   \n",
       "3       0  ...       137       126       140         0       133       224   \n",
       "4       0  ...         0         0         0         0         0         0   \n",
       "\n",
       "   pixel781  pixel782  pixel783  pixel784  \n",
       "0         0         0         0         0  \n",
       "1         0         0         0         0  \n",
       "2        31         0         0         0  \n",
       "3       222        56         0         0  \n",
       "4         0         0         0         0  \n",
       "\n",
       "[5 rows x 785 columns]"
      ]
     },
     "execution_count": 34,
     "metadata": {},
     "output_type": "execute_result"
    }
   ],
   "source": [
    "data_test = pd.read_csv('fashion-mnist_test.csv')\n",
    "data_test.head()"
   ]
  },
  {
   "cell_type": "code",
   "execution_count": 35,
   "id": "e57e3ac3",
   "metadata": {},
   "outputs": [],
   "source": [
    "y = data_train.label\n",
    "X = data_train[data_train.columns[1:]]\n",
    "\n",
    "y_test = data_test.label\n",
    "X_test = data_test[data_test.columns[1:]]"
   ]
  },
  {
   "cell_type": "code",
   "execution_count": 36,
   "id": "78e5c17b",
   "metadata": {},
   "outputs": [],
   "source": [
    "num_classes = 10\n",
    "epochs = 10"
   ]
  },
  {
   "cell_type": "code",
   "execution_count": 37,
   "id": "a5a544a5",
   "metadata": {},
   "outputs": [],
   "source": [
    "X = X/255\n",
    "X_test = X_test/255\n",
    "\n",
    "y = tf.keras.utils.to_categorical(y, num_classes)\n",
    "y_test = tf.keras.utils.to_categorical(y_test, num_classes)"
   ]
  },
  {
   "cell_type": "code",
   "execution_count": 38,
   "id": "1e929629",
   "metadata": {},
   "outputs": [],
   "source": [
    "from sklearn.model_selection import train_test_split\n",
    "\n",
    "X_train, X_val, y_train, y_val = train_test_split(X,y, test_size=0.2)"
   ]
  },
  {
   "cell_type": "markdown",
   "id": "dc0df42d",
   "metadata": {},
   "source": [
    "## 1. Логистическая регрессия"
   ]
  },
  {
   "cell_type": "code",
   "execution_count": 39,
   "id": "85cb5630",
   "metadata": {},
   "outputs": [],
   "source": [
    "log_reg = tf.keras.models.Sequential([\n",
    "    tf.keras.layers.Input(shape = (784,)),\n",
    "    tf.keras.layers.Dense(num_classes,activation='softmax')\n",
    "])\n",
    "log_reg.compile(\n",
    "    loss = 'categorical_crossentropy',\n",
    "    optimizer=tf.keras.optimizers.SGD(),\n",
    "    metrics=['accuracy']\n",
    ")\n",
    "\n",
    "log_reg_dir = \"logs/fit/\" + datetime.datetime.now().strftime(\"%Y%m%d-%H%M%S\")+'log_reg'\n",
    "tensorboard_callback = tf.keras.callbacks.TensorBoard(log_dir=log_reg_dir, histogram_freq=1)"
   ]
  },
  {
   "cell_type": "code",
   "execution_count": 40,
   "id": "ee3c9544",
   "metadata": {
    "scrolled": false
   },
   "outputs": [
    {
     "name": "stdout",
     "output_type": "stream",
     "text": [
      "Epoch 1/10\n",
      "1500/1500 [==============================] - 5s 3ms/step - loss: 0.8784 - accuracy: 0.7156 - val_loss: 0.6618 - val_accuracy: 0.7854\n",
      "Epoch 2/10\n",
      "1500/1500 [==============================] - 4s 2ms/step - loss: 0.6208 - accuracy: 0.7975 - val_loss: 0.5818 - val_accuracy: 0.8122\n",
      "Epoch 3/10\n",
      "1500/1500 [==============================] - 4s 2ms/step - loss: 0.5658 - accuracy: 0.8147 - val_loss: 0.5452 - val_accuracy: 0.8201\n",
      "Epoch 4/10\n",
      "1500/1500 [==============================] - 4s 2ms/step - loss: 0.5364 - accuracy: 0.8215 - val_loss: 0.5238 - val_accuracy: 0.8278\n",
      "Epoch 5/10\n",
      "1500/1500 [==============================] - 4s 2ms/step - loss: 0.5174 - accuracy: 0.8275 - val_loss: 0.5070 - val_accuracy: 0.8326\n",
      "Epoch 6/10\n",
      "1500/1500 [==============================] - 3s 2ms/step - loss: 0.5034 - accuracy: 0.8304 - val_loss: 0.4975 - val_accuracy: 0.8341\n",
      "Epoch 7/10\n",
      "1500/1500 [==============================] - 3s 2ms/step - loss: 0.4927 - accuracy: 0.8333 - val_loss: 0.4883 - val_accuracy: 0.8368\n",
      "Epoch 8/10\n",
      "1500/1500 [==============================] - 4s 2ms/step - loss: 0.4842 - accuracy: 0.8366 - val_loss: 0.4815 - val_accuracy: 0.8384\n",
      "Epoch 9/10\n",
      "1500/1500 [==============================] - 4s 2ms/step - loss: 0.4770 - accuracy: 0.8381 - val_loss: 0.4756 - val_accuracy: 0.8407\n",
      "Epoch 10/10\n",
      "1500/1500 [==============================] - 4s 2ms/step - loss: 0.4707 - accuracy: 0.8397 - val_loss: 0.4709 - val_accuracy: 0.8411\n"
     ]
    },
    {
     "data": {
      "text/plain": [
       "<keras.callbacks.History at 0x17b39e60610>"
      ]
     },
     "execution_count": 40,
     "metadata": {},
     "output_type": "execute_result"
    }
   ],
   "source": [
    "log_reg.fit(\n",
    "    X_train,y_train,\n",
    "    epochs=epochs,\n",
    "    validation_data=(X_val,y_val),\n",
    "    callbacks=[tensorboard_callback]\n",
    ")"
   ]
  },
  {
   "cell_type": "markdown",
   "id": "ee27d438",
   "metadata": {},
   "source": [
    "Видна зависимость, что с повышением количества эпох увеличивается и точность "
   ]
  },
  {
   "cell_type": "code",
   "execution_count": 41,
   "id": "06efe01d",
   "metadata": {},
   "outputs": [
    {
     "name": "stdout",
     "output_type": "stream",
     "text": [
      "313/313 [==============================] - 1s 2ms/step - loss: 0.4739 - accuracy: 0.8442\n",
      "Test loss: 0.4738720655441284\n",
      "Test accuracy: 0.8442000150680542\n"
     ]
    }
   ],
   "source": [
    "loss,accuracy = log_reg.evaluate(X_test,y_test)\n",
    "print('Test loss:', loss)\n",
    "print('Test accuracy:', accuracy)"
   ]
  },
  {
   "cell_type": "code",
   "execution_count": null,
   "id": "22098c5c",
   "metadata": {},
   "outputs": [],
   "source": []
  },
  {
   "cell_type": "markdown",
   "id": "e4475ce4",
   "metadata": {},
   "source": [
    "## 2. Полносвязная нейронная сеть"
   ]
  },
  {
   "cell_type": "code",
   "execution_count": 42,
   "id": "94cb2628",
   "metadata": {},
   "outputs": [],
   "source": [
    "full_nn = tf.keras.models.Sequential([\n",
    "    tf.keras.layers.Dense(512, activation='relu', input_shape = (784,)),\n",
    "    tf.keras.layers.Dropout(0.2),\n",
    "    tf.keras.layers.Dense(512, activation='relu'),\n",
    "    tf.keras.layers.Dropout(0.2),\n",
    "    tf.keras.layers.Dense(num_classes,activation='softmax')\n",
    "])\n",
    "full_nn.compile(\n",
    "    loss = 'categorical_crossentropy',\n",
    "    optimizer = tf.keras.optimizers.Adam(),\n",
    "    metrics=['accuracy']\n",
    ")\n",
    "\n",
    "full_nn_dir = \"logs/fit/\" + datetime.datetime.now().strftime(\"%Y%m%d-%H%M%S\")+'full_nn'\n",
    "tensorboard_callback = tf.keras.callbacks.TensorBoard(log_dir=full_nn_dir, histogram_freq=1)"
   ]
  },
  {
   "cell_type": "code",
   "execution_count": 43,
   "id": "8e6d2c31",
   "metadata": {},
   "outputs": [
    {
     "name": "stdout",
     "output_type": "stream",
     "text": [
      "Epoch 1/10\n",
      "1500/1500 [==============================] - 16s 10ms/step - loss: 0.5350 - accuracy: 0.8063 - val_loss: 0.4072 - val_accuracy: 0.8489\n",
      "Epoch 2/10\n",
      "1500/1500 [==============================] - 14s 9ms/step - loss: 0.4089 - accuracy: 0.8503 - val_loss: 0.3644 - val_accuracy: 0.8668\n",
      "Epoch 3/10\n",
      "1500/1500 [==============================] - 15s 10ms/step - loss: 0.3794 - accuracy: 0.8608 - val_loss: 0.3479 - val_accuracy: 0.8726\n",
      "Epoch 4/10\n",
      "1500/1500 [==============================] - 14s 9ms/step - loss: 0.3585 - accuracy: 0.8699 - val_loss: 0.3424 - val_accuracy: 0.8777\n",
      "Epoch 5/10\n",
      "1500/1500 [==============================] - 14s 9ms/step - loss: 0.3389 - accuracy: 0.8753 - val_loss: 0.3445 - val_accuracy: 0.8777\n",
      "Epoch 6/10\n",
      "1500/1500 [==============================] - 14s 9ms/step - loss: 0.3245 - accuracy: 0.8804 - val_loss: 0.3243 - val_accuracy: 0.8818\n",
      "Epoch 7/10\n",
      "1500/1500 [==============================] - 15s 10ms/step - loss: 0.3171 - accuracy: 0.8827 - val_loss: 0.3290 - val_accuracy: 0.8790\n",
      "Epoch 8/10\n",
      "1500/1500 [==============================] - 14s 9ms/step - loss: 0.3083 - accuracy: 0.8849 - val_loss: 0.3329 - val_accuracy: 0.8832\n",
      "Epoch 9/10\n",
      "1500/1500 [==============================] - 15s 10ms/step - loss: 0.2997 - accuracy: 0.8882 - val_loss: 0.3260 - val_accuracy: 0.8860\n",
      "Epoch 10/10\n",
      "1500/1500 [==============================] - 16s 11ms/step - loss: 0.2907 - accuracy: 0.8927 - val_loss: 0.3283 - val_accuracy: 0.8866\n"
     ]
    },
    {
     "data": {
      "text/plain": [
       "<keras.callbacks.History at 0x17b39a8db20>"
      ]
     },
     "execution_count": 43,
     "metadata": {},
     "output_type": "execute_result"
    }
   ],
   "source": [
    "full_nn.fit(\n",
    "    X_train,y_train,\n",
    "    epochs=epochs,\n",
    "    validation_data=(X_val,y_val),\n",
    "    callbacks=[tensorboard_callback]\n",
    ")"
   ]
  },
  {
   "cell_type": "code",
   "execution_count": 44,
   "id": "d06af880",
   "metadata": {},
   "outputs": [
    {
     "name": "stdout",
     "output_type": "stream",
     "text": [
      "313/313 [==============================] - 2s 5ms/step - loss: 0.3390 - accuracy: 0.8852\n",
      "Test loss: 0.3389517068862915\n",
      "Test accuracy: 0.885200023651123\n"
     ]
    }
   ],
   "source": [
    "loss,accuracy = full_nn.evaluate(X_test,y_test)\n",
    "print('Test loss:', loss)\n",
    "print('Test accuracy:', accuracy)"
   ]
  },
  {
   "cell_type": "markdown",
   "id": "215577ca",
   "metadata": {},
   "source": [
    "Точность возросла и видно что можно проходить меньшее количество эпох так как точность не сильно изменяется."
   ]
  },
  {
   "cell_type": "code",
   "execution_count": null,
   "id": "eb1e26f3",
   "metadata": {},
   "outputs": [],
   "source": [
    "\n"
   ]
  },
  {
   "cell_type": "markdown",
   "id": "03b3d978",
   "metadata": {},
   "source": [
    "## 3. Сверточная нейронная сеть"
   ]
  },
  {
   "cell_type": "code",
   "execution_count": 45,
   "id": "b70ce4ef",
   "metadata": {},
   "outputs": [],
   "source": [
    "X_train_ = X_train.to_numpy().reshape(-1,28,28)\n",
    "X_val_ = X_val.to_numpy().reshape(-1,28,28)\n",
    "X_test_ = X_test.to_numpy().reshape(-1,28,28)"
   ]
  },
  {
   "cell_type": "code",
   "execution_count": 46,
   "id": "59404c82",
   "metadata": {},
   "outputs": [
    {
     "name": "stdout",
     "output_type": "stream",
     "text": [
      "Model: \"sequential_8\"\n",
      "_________________________________________________________________\n",
      " Layer (type)                Output Shape              Param #   \n",
      "=================================================================\n",
      " dense_17 (Dense)            (None, 28, 28, 32)        64        \n",
      "                                                                 \n",
      " conv2d_3 (Conv2D)           (None, 26, 26, 32)        9248      \n",
      "                                                                 \n",
      " max_pooling2d_3 (MaxPooling  (None, 13, 13, 32)       0         \n",
      " 2D)                                                             \n",
      "                                                                 \n",
      " flatten_3 (Flatten)         (None, 5408)              0         \n",
      "                                                                 \n",
      " dropout_8 (Dropout)         (None, 5408)              0         \n",
      "                                                                 \n",
      " dense_18 (Dense)            (None, 10)                54090     \n",
      "                                                                 \n",
      "=================================================================\n",
      "Total params: 63,402\n",
      "Trainable params: 63,402\n",
      "Non-trainable params: 0\n",
      "_________________________________________________________________\n"
     ]
    }
   ],
   "source": [
    "sv_nn = tf.keras.models.Sequential([\n",
    "    tf.keras.layers.Dense(32, activation='relu',input_shape=(28,28,1)),\n",
    "    tf.keras.layers.Conv2D(32,3,activation='relu'),\n",
    "    tf.keras.layers.MaxPooling2D(2,padding='same'),\n",
    "    tf.keras.layers.Flatten(),\n",
    "    tf.keras.layers.Dropout(0.2),\n",
    "    tf.keras.layers.Dense(num_classes,activation='softmax')\n",
    "])\n",
    "sv_nn.summary()"
   ]
  },
  {
   "cell_type": "code",
   "execution_count": 47,
   "id": "ab5a8b77",
   "metadata": {},
   "outputs": [],
   "source": [
    "sv_nn.compile(\n",
    "    loss = 'categorical_crossentropy',\n",
    "    optimizer = 'adam',\n",
    "    metrics=['accuracy']\n",
    ")\n",
    "sv_nn_dir = \"logs/fit/\" + datetime.datetime.now().strftime(\"%Y%m%d-%H%M%S\")+'sv_nn'\n",
    "tensorboard_callback = tf.keras.callbacks.TensorBoard(log_dir=sv_nn_dir, histogram_freq=1)"
   ]
  },
  {
   "cell_type": "code",
   "execution_count": 48,
   "id": "99c4d786",
   "metadata": {},
   "outputs": [
    {
     "name": "stdout",
     "output_type": "stream",
     "text": [
      "Epoch 1/10\n",
      "750/750 [==============================] - 66s 87ms/step - loss: 0.4933 - accuracy: 0.8262 - val_loss: 0.3497 - val_accuracy: 0.8792\n",
      "Epoch 2/10\n",
      "750/750 [==============================] - 64s 86ms/step - loss: 0.3422 - accuracy: 0.8799 - val_loss: 0.3191 - val_accuracy: 0.8873\n",
      "Epoch 3/10\n",
      "750/750 [==============================] - 64s 85ms/step - loss: 0.3057 - accuracy: 0.8909 - val_loss: 0.3004 - val_accuracy: 0.8933\n",
      "Epoch 4/10\n",
      "750/750 [==============================] - 64s 85ms/step - loss: 0.2836 - accuracy: 0.8988 - val_loss: 0.2876 - val_accuracy: 0.8998\n",
      "Epoch 5/10\n",
      "750/750 [==============================] - 63s 84ms/step - loss: 0.2680 - accuracy: 0.9036 - val_loss: 0.2886 - val_accuracy: 0.8998\n",
      "Epoch 6/10\n",
      "750/750 [==============================] - 65s 86ms/step - loss: 0.2565 - accuracy: 0.9079 - val_loss: 0.2772 - val_accuracy: 0.9049\n",
      "Epoch 7/10\n",
      "750/750 [==============================] - 64s 85ms/step - loss: 0.2466 - accuracy: 0.9103 - val_loss: 0.2743 - val_accuracy: 0.9062\n",
      "Epoch 8/10\n",
      "750/750 [==============================] - 64s 85ms/step - loss: 0.2373 - accuracy: 0.9135 - val_loss: 0.2890 - val_accuracy: 0.8997\n",
      "Epoch 9/10\n",
      "750/750 [==============================] - 64s 85ms/step - loss: 0.2272 - accuracy: 0.9165 - val_loss: 0.2747 - val_accuracy: 0.9063\n",
      "Epoch 10/10\n",
      "750/750 [==============================] - 64s 86ms/step - loss: 0.2208 - accuracy: 0.9191 - val_loss: 0.2745 - val_accuracy: 0.9057\n"
     ]
    },
    {
     "data": {
      "text/plain": [
       "<keras.callbacks.History at 0x17b32f90a60>"
      ]
     },
     "execution_count": 48,
     "metadata": {},
     "output_type": "execute_result"
    }
   ],
   "source": [
    "sv_nn.fit(\n",
    "    X_train_,y_train,\n",
    "    batch_size=64,\n",
    "    epochs=epochs,\n",
    "    validation_data=(X_val_,y_val),\n",
    "    callbacks=[tensorboard_callback]\n",
    ")"
   ]
  },
  {
   "cell_type": "code",
   "execution_count": 49,
   "id": "7b09fbfe",
   "metadata": {},
   "outputs": [
    {
     "name": "stdout",
     "output_type": "stream",
     "text": [
      "313/313 [==============================] - 4s 12ms/step - loss: 0.2654 - accuracy: 0.9092\n"
     ]
    },
    {
     "data": {
      "text/plain": [
       "[0.2654277980327606, 0.9092000126838684]"
      ]
     },
     "execution_count": 49,
     "metadata": {},
     "output_type": "execute_result"
    }
   ],
   "source": [
    "sv_nn.evaluate(X_test_,y_test)"
   ]
  },
  {
   "cell_type": "code",
   "execution_count": null,
   "id": "e163562b",
   "metadata": {},
   "outputs": [],
   "source": []
  },
  {
   "cell_type": "markdown",
   "id": "9814656d",
   "metadata": {},
   "source": [
    "## Batch normalization "
   ]
  },
  {
   "cell_type": "code",
   "execution_count": 50,
   "id": "47da8306",
   "metadata": {},
   "outputs": [],
   "source": [
    "full_nn_bn = tf.keras.models.Sequential([\n",
    "    tf.keras.layers.Dense(512, input_shape = (784,)),\n",
    "    tf.keras.layers.BatchNormalization(),\n",
    "    tf.keras.layers.Activation('relu'),\n",
    "    tf.keras.layers.Dropout(0.2),\n",
    "    tf.keras.layers.Dense(num_classes),\n",
    "    tf.keras.layers.BatchNormalization(),\n",
    "    tf.keras.layers.Activation('softmax')\n",
    "])\n",
    "full_nn_bn.compile(\n",
    "    loss = 'categorical_crossentropy',\n",
    "    optimizer = tf.keras.optimizers.Adam(),\n",
    "    metrics=['accuracy']\n",
    ")\n",
    "full_nn_bn_dir = \"logs/fit/\" + datetime.datetime.now().strftime(\"%Y%m%d-%H%M%S\")+'full_nn_bn'\n",
    "tensorboard_callback = tf.keras.callbacks.TensorBoard(log_dir=full_nn_bn_dir, histogram_freq=1)"
   ]
  },
  {
   "cell_type": "code",
   "execution_count": 51,
   "id": "5cfaad00",
   "metadata": {},
   "outputs": [
    {
     "name": "stdout",
     "output_type": "stream",
     "text": [
      "Epoch 1/10\n",
      "1500/1500 [==============================] - 11s 7ms/step - loss: 0.6743 - accuracy: 0.8092 - val_loss: 0.5188 - val_accuracy: 0.8426\n",
      "Epoch 2/10\n",
      "1500/1500 [==============================] - 9s 6ms/step - loss: 0.4971 - accuracy: 0.8413 - val_loss: 0.4553 - val_accuracy: 0.8493\n",
      "Epoch 3/10\n",
      "1500/1500 [==============================] - 9s 6ms/step - loss: 0.4359 - accuracy: 0.8552 - val_loss: 0.3754 - val_accuracy: 0.8692\n",
      "Epoch 4/10\n",
      "1500/1500 [==============================] - 9s 6ms/step - loss: 0.3981 - accuracy: 0.8657 - val_loss: 0.3727 - val_accuracy: 0.8713\n",
      "Epoch 5/10\n",
      "1500/1500 [==============================] - 9s 6ms/step - loss: 0.3705 - accuracy: 0.8731 - val_loss: 0.3478 - val_accuracy: 0.8788\n",
      "Epoch 6/10\n",
      "1500/1500 [==============================] - 9s 6ms/step - loss: 0.3474 - accuracy: 0.8791 - val_loss: 0.3305 - val_accuracy: 0.8820\n",
      "Epoch 7/10\n",
      "1500/1500 [==============================] - 9s 6ms/step - loss: 0.3243 - accuracy: 0.8877 - val_loss: 0.3328 - val_accuracy: 0.8824\n",
      "Epoch 8/10\n",
      "1500/1500 [==============================] - 9s 6ms/step - loss: 0.3126 - accuracy: 0.8907 - val_loss: 0.3284 - val_accuracy: 0.8838\n",
      "Epoch 9/10\n",
      "1500/1500 [==============================] - 10s 6ms/step - loss: 0.2995 - accuracy: 0.8954 - val_loss: 0.3155 - val_accuracy: 0.8884\n",
      "Epoch 10/10\n",
      "1500/1500 [==============================] - 9s 6ms/step - loss: 0.2877 - accuracy: 0.8984 - val_loss: 0.3610 - val_accuracy: 0.8700\n"
     ]
    },
    {
     "data": {
      "text/plain": [
       "<keras.callbacks.History at 0x17ad9ab8be0>"
      ]
     },
     "execution_count": 51,
     "metadata": {},
     "output_type": "execute_result"
    }
   ],
   "source": [
    "full_nn_bn.fit(\n",
    "    X_train,y_train,\n",
    "    epochs=epochs,\n",
    "    validation_data=(X_val,y_val),\n",
    "    callbacks=[tensorboard_callback]\n",
    ")"
   ]
  },
  {
   "cell_type": "code",
   "execution_count": 52,
   "id": "47103a12",
   "metadata": {},
   "outputs": [
    {
     "name": "stdout",
     "output_type": "stream",
     "text": [
      "313/313 [==============================] - 1s 3ms/step - loss: 0.3614 - accuracy: 0.8675\n",
      "Test loss: 0.3613829016685486\n",
      "Test accuracy: 0.8675000071525574\n"
     ]
    }
   ],
   "source": [
    "loss,accuracy = full_nn_bn.evaluate(X_test,y_test)\n",
    "print('Test loss:', loss)\n",
    "print('Test accuracy:', accuracy)"
   ]
  },
  {
   "cell_type": "code",
   "execution_count": null,
   "id": "150fe5ae",
   "metadata": {},
   "outputs": [],
   "source": []
  },
  {
   "cell_type": "code",
   "execution_count": 53,
   "id": "8b9bf747",
   "metadata": {},
   "outputs": [],
   "source": [
    "sv_nn_bn = tf.keras.models.Sequential([\n",
    "    tf.keras.layers.Input(shape=(28,28,1)),\n",
    "    tf.keras.layers.Dense(64),\n",
    "    tf.keras.layers.BatchNormalization(),\n",
    "    tf.keras.layers.Activation('relu'),\n",
    "    tf.keras.layers.Conv2D(32,3,activation='relu'),\n",
    "    tf.keras.layers.MaxPooling2D(2,padding='same'),\n",
    "    tf.keras.layers.Flatten(),\n",
    "    tf.keras.layers.Dense(64),\n",
    "    tf.keras.layers.BatchNormalization(),\n",
    "    tf.keras.layers.Activation('relu'),\n",
    "    tf.keras.layers.Dropout(0.5),\n",
    "    tf.keras.layers.Dense(num_classes),\n",
    "    tf.keras.layers.BatchNormalization(),\n",
    "    tf.keras.layers.Activation('softmax')\n",
    "])\n",
    "sv_nn_bn.compile(\n",
    "    loss = 'categorical_crossentropy',\n",
    "    optimizer = 'adam',\n",
    "    metrics=['accuracy']\n",
    ")\n",
    "sv_nn_bn_dir = \"logs/fit/\" + datetime.datetime.now().strftime(\"%Y%m%d-%H%M%S\")+'sv_nn_bn'\n",
    "tensorboard_callback = tf.keras.callbacks.TensorBoard(log_dir=sv_nn_bn_dir, histogram_freq=1)"
   ]
  },
  {
   "cell_type": "code",
   "execution_count": 54,
   "id": "c98aec70",
   "metadata": {},
   "outputs": [
    {
     "name": "stdout",
     "output_type": "stream",
     "text": [
      "Epoch 1/10\n",
      "750/750 [==============================] - 121s 159ms/step - loss: 0.7475 - accuracy: 0.8231 - val_loss: 0.4558 - val_accuracy: 0.8868\n",
      "Epoch 2/10\n",
      "750/750 [==============================] - 118s 158ms/step - loss: 0.4958 - accuracy: 0.8718 - val_loss: 0.3385 - val_accuracy: 0.8953\n",
      "Epoch 3/10\n",
      "750/750 [==============================] - 119s 158ms/step - loss: 0.4100 - accuracy: 0.8857 - val_loss: 0.3337 - val_accuracy: 0.8900\n",
      "Epoch 4/10\n",
      "750/750 [==============================] - 119s 158ms/step - loss: 0.3619 - accuracy: 0.8937 - val_loss: 0.2774 - val_accuracy: 0.9049\n",
      "Epoch 5/10\n",
      "750/750 [==============================] - 119s 159ms/step - loss: 0.3241 - accuracy: 0.9035 - val_loss: 0.2796 - val_accuracy: 0.9052\n",
      "Epoch 6/10\n",
      "750/750 [==============================] - 119s 159ms/step - loss: 0.3020 - accuracy: 0.9077 - val_loss: 0.2696 - val_accuracy: 0.9097\n",
      "Epoch 7/10\n",
      "750/750 [==============================] - 119s 159ms/step - loss: 0.2813 - accuracy: 0.9125 - val_loss: 0.2777 - val_accuracy: 0.9031\n",
      "Epoch 8/10\n",
      "750/750 [==============================] - 122s 163ms/step - loss: 0.2642 - accuracy: 0.9168 - val_loss: 0.2513 - val_accuracy: 0.9122\n",
      "Epoch 9/10\n",
      "750/750 [==============================] - 122s 163ms/step - loss: 0.2488 - accuracy: 0.9222 - val_loss: 0.2475 - val_accuracy: 0.9123\n",
      "Epoch 10/10\n",
      "750/750 [==============================] - 123s 163ms/step - loss: 0.2323 - accuracy: 0.9249 - val_loss: 0.2455 - val_accuracy: 0.9146\n"
     ]
    },
    {
     "data": {
      "text/plain": [
       "<keras.callbacks.History at 0x17ad9956130>"
      ]
     },
     "execution_count": 54,
     "metadata": {},
     "output_type": "execute_result"
    }
   ],
   "source": [
    "sv_nn_bn.fit(\n",
    "    X_train_,y_train,\n",
    "    batch_size=64,\n",
    "    epochs=epochs,\n",
    "    validation_data=(X_val_,y_val),\n",
    "    callbacks=[tensorboard_callback]\n",
    ")"
   ]
  },
  {
   "cell_type": "code",
   "execution_count": 55,
   "id": "2c152a4a",
   "metadata": {},
   "outputs": [
    {
     "name": "stdout",
     "output_type": "stream",
     "text": [
      "313/313 [==============================] - 7s 21ms/step - loss: 0.2308 - accuracy: 0.9178\n",
      "Test loss: 0.23080971837043762\n",
      "Test accuracy: 0.9178000092506409\n"
     ]
    }
   ],
   "source": [
    "loss,accuracy = sv_nn_bn.evaluate(X_test_,y_test)\n",
    "print('Test loss:', loss)\n",
    "print('Test accuracy:', accuracy)"
   ]
  },
  {
   "cell_type": "markdown",
   "id": "240de67a",
   "metadata": {},
   "source": [
    "### Построение графика "
   ]
  },
  {
   "cell_type": "code",
   "execution_count": 29,
   "id": "967f29a7",
   "metadata": {},
   "outputs": [],
   "source": [
    "acc_full_nn = []\n",
    "acc_full_nn_bn = []\n",
    "acc_sv_nn = []\n",
    "acc_sv_nn_bn = []"
   ]
  },
  {
   "cell_type": "code",
   "execution_count": 30,
   "id": "51547741",
   "metadata": {
    "scrolled": true
   },
   "outputs": [
    {
     "name": "stdout",
     "output_type": "stream",
     "text": [
      "1500/1500 [==============================] - 19s 13ms/step - loss: 0.2844 - accuracy: 0.8940 - val_loss: 0.3066 - val_accuracy: 0.8898\n",
      "313/313 [==============================] - 2s 6ms/step - loss: 0.3109 - accuracy: 0.8857\n",
      "1500/1500 [==============================] - 14s 9ms/step - loss: 0.2776 - accuracy: 0.9016 - val_loss: 0.3049 - val_accuracy: 0.8922\n",
      "313/313 [==============================] - 1s 4ms/step - loss: 0.3019 - accuracy: 0.8942\n",
      "1500/1500 [==============================] - 121s 80ms/step - loss: 0.2358 - accuracy: 0.9133 - val_loss: 0.2681 - val_accuracy: 0.9102\n",
      "313/313 [==============================] - 7s 22ms/step - loss: 0.2689 - accuracy: 0.9104\n",
      "1500/1500 [==============================] - 237s 155ms/step - loss: 0.7407 - accuracy: 0.8099 - val_loss: 0.3598 - val_accuracy: 0.8876\n",
      "313/313 [==============================] - 10s 29ms/step - loss: 0.3588 - accuracy: 0.8904\n",
      "Epoch 1/2\n",
      "1500/1500 [==============================] - 21s 14ms/step - loss: 0.2768 - accuracy: 0.8964 - val_loss: 0.3055 - val_accuracy: 0.8898\n",
      "Epoch 2/2\n",
      "1500/1500 [==============================] - 20s 14ms/step - loss: 0.2746 - accuracy: 0.8982 - val_loss: 0.3182 - val_accuracy: 0.8917\n",
      "313/313 [==============================] - 2s 6ms/step - loss: 0.3176 - accuracy: 0.8882\n",
      "Epoch 1/2\n",
      "1500/1500 [==============================] - 13s 9ms/step - loss: 0.2691 - accuracy: 0.9061 - val_loss: 0.3231 - val_accuracy: 0.8856\n",
      "Epoch 2/2\n",
      "1500/1500 [==============================] - 13s 8ms/step - loss: 0.2573 - accuracy: 0.9103 - val_loss: 0.2942 - val_accuracy: 0.8959\n",
      "313/313 [==============================] - 1s 4ms/step - loss: 0.2998 - accuracy: 0.8923\n",
      "Epoch 1/2\n",
      "1500/1500 [==============================] - 98s 65ms/step - loss: 0.2234 - accuracy: 0.9170 - val_loss: 0.2541 - val_accuracy: 0.9111\n",
      "Epoch 2/2\n",
      "1500/1500 [==============================] - 100s 67ms/step - loss: 0.2132 - accuracy: 0.9220 - val_loss: 0.2634 - val_accuracy: 0.9095\n",
      "313/313 [==============================] - 5s 15ms/step - loss: 0.2675 - accuracy: 0.9091\n",
      "Epoch 1/2\n",
      "1500/1500 [==============================] - 192s 128ms/step - loss: 0.5020 - accuracy: 0.8560 - val_loss: 0.3068 - val_accuracy: 0.8974\n",
      "Epoch 2/2\n",
      "1500/1500 [==============================] - 215s 143ms/step - loss: 0.4213 - accuracy: 0.8712 - val_loss: 0.2880 - val_accuracy: 0.9122\n",
      "313/313 [==============================] - 12s 39ms/step - loss: 0.2897 - accuracy: 0.9120\n",
      "Epoch 1/3\n",
      "1500/1500 [==============================] - 20s 13ms/step - loss: 0.2684 - accuracy: 0.8997 - val_loss: 0.2992 - val_accuracy: 0.8954\n",
      "Epoch 2/3\n",
      "1500/1500 [==============================] - 19s 13ms/step - loss: 0.2631 - accuracy: 0.9008 - val_loss: 0.3042 - val_accuracy: 0.8932\n",
      "Epoch 3/3\n",
      "1500/1500 [==============================] - 19s 12ms/step - loss: 0.2604 - accuracy: 0.9015 - val_loss: 0.2951 - val_accuracy: 0.8987\n",
      "313/313 [==============================] - 2s 5ms/step - loss: 0.3036 - accuracy: 0.8911\n",
      "Epoch 1/3\n",
      "1500/1500 [==============================] - 13s 9ms/step - loss: 0.2490 - accuracy: 0.9119 - val_loss: 0.3493 - val_accuracy: 0.8744\n",
      "Epoch 2/3\n",
      "1500/1500 [==============================] - 12s 8ms/step - loss: 0.2415 - accuracy: 0.9157 - val_loss: 0.2969 - val_accuracy: 0.8932\n",
      "Epoch 3/3\n",
      "1500/1500 [==============================] - 12s 8ms/step - loss: 0.2320 - accuracy: 0.9190 - val_loss: 0.3613 - val_accuracy: 0.8786\n",
      "313/313 [==============================] - 1s 4ms/step - loss: 0.3490 - accuracy: 0.8792\n",
      "Epoch 1/3\n",
      "1500/1500 [==============================] - 97s 65ms/step - loss: 0.2071 - accuracy: 0.9229 - val_loss: 0.2649 - val_accuracy: 0.9102\n",
      "Epoch 2/3\n",
      "1500/1500 [==============================] - 108s 72ms/step - loss: 0.2055 - accuracy: 0.9248 - val_loss: 0.2617 - val_accuracy: 0.9124\n",
      "Epoch 3/3\n",
      "1500/1500 [==============================] - 110s 73ms/step - loss: 0.1978 - accuracy: 0.9277 - val_loss: 0.2729 - val_accuracy: 0.9112\n",
      "313/313 [==============================] - 5s 16ms/step - loss: 0.2829 - accuracy: 0.9089\n",
      "Epoch 1/3\n",
      "1500/1500 [==============================] - 192s 128ms/step - loss: 0.3816 - accuracy: 0.8808 - val_loss: 0.2527 - val_accuracy: 0.9129\n",
      "Epoch 2/3\n",
      "1500/1500 [==============================] - 195s 130ms/step - loss: 0.3481 - accuracy: 0.8881 - val_loss: 0.2574 - val_accuracy: 0.9116\n",
      "Epoch 3/3\n",
      "1500/1500 [==============================] - 195s 130ms/step - loss: 0.3253 - accuracy: 0.8962 - val_loss: 0.2360 - val_accuracy: 0.9195\n",
      "313/313 [==============================] - 11s 33ms/step - loss: 0.2333 - accuracy: 0.9195\n",
      "Epoch 1/4\n",
      "1500/1500 [==============================] - 20s 13ms/step - loss: 0.2558 - accuracy: 0.9028 - val_loss: 0.3059 - val_accuracy: 0.8979\n",
      "Epoch 2/4\n",
      "1500/1500 [==============================] - 17s 12ms/step - loss: 0.2522 - accuracy: 0.9061 - val_loss: 0.3107 - val_accuracy: 0.8915\n",
      "Epoch 3/4\n",
      "1500/1500 [==============================] - 13s 9ms/step - loss: 0.2492 - accuracy: 0.9059 - val_loss: 0.3140 - val_accuracy: 0.8957\n",
      "Epoch 4/4\n",
      "1500/1500 [==============================] - 14s 9ms/step - loss: 0.2418 - accuracy: 0.9092 - val_loss: 0.3255 - val_accuracy: 0.8963\n",
      "313/313 [==============================] - 1s 4ms/step - loss: 0.3303 - accuracy: 0.8912\n",
      "Epoch 1/4\n",
      "1500/1500 [==============================] - 9s 6ms/step - loss: 0.2255 - accuracy: 0.9209 - val_loss: 0.3750 - val_accuracy: 0.8696\n",
      "Epoch 2/4\n",
      "1500/1500 [==============================] - 9s 6ms/step - loss: 0.2217 - accuracy: 0.9212 - val_loss: 0.3039 - val_accuracy: 0.8974\n",
      "Epoch 3/4\n",
      "1500/1500 [==============================] - 9s 6ms/step - loss: 0.2141 - accuracy: 0.9245 - val_loss: 0.2911 - val_accuracy: 0.8978\n",
      "Epoch 4/4\n",
      "1500/1500 [==============================] - 9s 6ms/step - loss: 0.2064 - accuracy: 0.9278 - val_loss: 0.3078 - val_accuracy: 0.8956\n",
      "313/313 [==============================] - 1s 3ms/step - loss: 0.3186 - accuracy: 0.8918\n",
      "Epoch 1/4\n",
      "1500/1500 [==============================] - 70s 46ms/step - loss: 0.1939 - accuracy: 0.9285 - val_loss: 0.2832 - val_accuracy: 0.9100\n",
      "Epoch 2/4\n",
      "1500/1500 [==============================] - 80s 53ms/step - loss: 0.1911 - accuracy: 0.9296 - val_loss: 0.2785 - val_accuracy: 0.9053\n",
      "Epoch 3/4\n",
      "1500/1500 [==============================] - 81s 54ms/step - loss: 0.1894 - accuracy: 0.9311 - val_loss: 0.2711 - val_accuracy: 0.9093\n",
      "Epoch 4/4\n",
      "1500/1500 [==============================] - 79s 53ms/step - loss: 0.1832 - accuracy: 0.9313 - val_loss: 0.2701 - val_accuracy: 0.9128\n",
      "313/313 [==============================] - 4s 12ms/step - loss: 0.2749 - accuracy: 0.9124\n",
      "Epoch 1/4\n",
      "1500/1500 [==============================] - 149s 99ms/step - loss: 0.3016 - accuracy: 0.9024 - val_loss: 0.2358 - val_accuracy: 0.9168\n",
      "Epoch 2/4\n",
      "1500/1500 [==============================] - 149s 99ms/step - loss: 0.2856 - accuracy: 0.9091 - val_loss: 0.2378 - val_accuracy: 0.9177\n",
      "Epoch 3/4\n",
      "1500/1500 [==============================] - 147s 98ms/step - loss: 0.2674 - accuracy: 0.9124 - val_loss: 0.2379 - val_accuracy: 0.9170\n",
      "Epoch 4/4\n",
      "1500/1500 [==============================] - 149s 99ms/step - loss: 0.2609 - accuracy: 0.9147 - val_loss: 0.2365 - val_accuracy: 0.9174\n",
      "313/313 [==============================] - 8s 24ms/step - loss: 0.2267 - accuracy: 0.9204\n"
     ]
    }
   ],
   "source": [
    "for epochs in range(1,5):\n",
    "    full_nn.fit(X_train,y_train,epochs=epochs,validation_data=(X_val,y_val))\n",
    "    acc_full_nn.append(full_nn.evaluate(X_test,y_test)[1])\n",
    "    \n",
    "    full_nn_bn.fit(X_train,y_train,epochs=epochs,validation_data=(X_val,y_val))\n",
    "    acc_full_nn_bn.append(full_nn_bn.evaluate(X_test,y_test)[1])\n",
    "    \n",
    "    sv_nn.fit(X_train_,y_train,epochs=epochs,validation_data=(X_val_,y_val))\n",
    "    acc_sv_nn.append(sv_nn.evaluate(X_test_,y_test)[1])\n",
    "    \n",
    "    sv_nn_bn.fit(X_train_,y_train,epochs=epochs,validation_data=(X_val_,y_val))\n",
    "    acc_sv_nn_bn.append(sv_nn_bn.evaluate(X_test_,y_test)[1])\n",
    "    "
   ]
  },
  {
   "cell_type": "code",
   "execution_count": 31,
   "id": "6c42887f",
   "metadata": {},
   "outputs": [
    {
     "data": {
      "text/plain": [
       "<matplotlib.legend.Legend at 0x17af352e460>"
      ]
     },
     "execution_count": 31,
     "metadata": {},
     "output_type": "execute_result"
    },
    {
     "data": {
      "image/png": "[encoded data removed]",
      "text/plain": [
       "<Figure size 432x288 with 1 Axes>"
      ]
     },
     "metadata": {
      "needs_background": "light"
     },
     "output_type": "display_data"
    }
   ],
   "source": [
    "plt.plot(acc_full_nn,label='full_nn')\n",
    "plt.plot(acc_full_nn_bn,label='full_nn_bn')\n",
    "plt.plot(acc_sv_nn,label='sv_nn')\n",
    "plt.plot(acc_sv_nn_bn,label='sv_nn_bn')\n",
    "plt.legend()"
   ]
  },
  {
   "cell_type": "code",
   "execution_count": null,
   "id": "77365c61",
   "metadata": {},
   "outputs": [],
   "source": []
  },
  {
   "cell_type": "code",
   "execution_count": null,
   "id": "8e010896",
   "metadata": {},
   "outputs": [],
   "source": []
  },
  {
   "cell_type": "code",
   "execution_count": 56,
   "id": "d3f5f073",
   "metadata": {},
   "outputs": [
    {
     "name": "stdout",
     "output_type": "stream",
     "text": [
      "The tensorboard extension is already loaded. To reload it, use:\n",
      "  %reload_ext tensorboard\n"
     ]
    }
   ],
   "source": [
    "%load_ext tensorboard"
   ]
  },
  {
   "cell_type": "code",
   "execution_count": 57,
   "id": "14f52c6b",
   "metadata": {},
   "outputs": [
    {
     "data": {
      "text/plain": [
       "Reusing TensorBoard on port 6006 (pid 14352), started 6:59:00 ago. (Use '!kill 14352' to kill it.)"
      ]
     },
     "metadata": {},
     "output_type": "display_data"
    },
    {
     "data": {
      "text/html": [
       "\n",
       "      <iframe id=\"tensorboard-frame-3fbd088f06643ad2\" width=\"100%\" height=\"800\" frameborder=\"0\">\n",
       "      </iframe>\n",
       "      <script>\n",
       "        (function() {\n",
       "          const frame = document.getElementById(\"tensorboard-frame-3fbd088f06643ad2\");\n",
       "          const url = new URL(\"/\", window.location);\n",
       "          const port = 6006;\n",
       "          if (port) {\n",
       "            url.port = port;\n",
       "          }\n",
       "          frame.src = url;\n",
       "        })();\n",
       "      </script>\n",
       "    "
      ],
      "text/plain": [
       "<IPython.core.display.HTML object>"
      ]
     },
     "metadata": {},
     "output_type": "display_data"
    }
   ],
   "source": [
    "%tensorboard --logdir logs/fit"
   ]
  },
  {
   "cell_type": "code",
   "execution_count": null,
   "id": "cbcfa52d",
   "metadata": {},
   "outputs": [],
   "source": []
  }
 ],
 "metadata": {
  "kernelspec": {
   "display_name": "Python 3 (ipykernel)",
   "language": "python",
   "name": "python3"
  },
  "language_info": {
   "codemirror_mode": {
    "name": "ipython",
    "version": 3
   },
   "file_extension": ".py",
   "mimetype": "text/x-python",
   "name": "python",
   "nbconvert_exporter": "python",
   "pygments_lexer": "ipython3",
   "version": "3.9.12"
  }
 },
 "nbformat": 4,
 "nbformat_minor": 5
}
